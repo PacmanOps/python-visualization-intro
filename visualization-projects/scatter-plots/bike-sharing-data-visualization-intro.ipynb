{
 "cells": [
  {
   "cell_type": "markdown",
   "metadata": {},
   "source": [
    "# A Review of Bike Sharing Data Set and Scatter Plot Visualizations in Python"
   ]
  },
  {
   "cell_type": "code",
   "execution_count": null,
   "metadata": {},
   "outputs": [],
   "source": [
    "# Import pandas and matplotlib.pyplot\n",
    "import pandas as pd\n",
    "import matplotlib.pyplot as plt"
   ]
  },
  {
   "cell_type": "code",
   "execution_count": null,
   "metadata": {},
   "outputs": [],
   "source": [
    "# Load the CSV file into a DataFrame\n",
    "bike_sharing = pd.read_csv('data-files/day.csv')"
   ]
  },
  {
   "cell_type": "code",
   "execution_count": null,
   "metadata": {},
   "outputs": [],
   "source": [
    "# Examine first and last five rows\n",
    "bike_sharing.head(), bike_sharing.tail()"
   ]
  },
  {
   "cell_type": "code",
   "execution_count": null,
   "metadata": {},
   "outputs": [],
   "source": [
    "# Examine information about the dataset using .info method\n",
    "bike_sharing.info()"
   ]
  },
  {
   "cell_type": "code",
   "execution_count": null,
   "metadata": {},
   "outputs": [],
   "source": [
    "# Convert dteday column from object to datetime\n",
    "bike_sharing['dteday'] = pd.to_datetime(bike_sharing['dteday'])"
   ]
  },
  {
   "cell_type": "code",
   "execution_count": null,
   "metadata": {},
   "outputs": [],
   "source": [
    "# Plot line graph, dteday is x-axis and casual is y-axis\n",
    "# Label as Casual\n",
    "plt.plot(bike_sharing['dteday'], bike_sharing['casual'], label='Casual')\n",
    "# Plot line graph, dteday is x-axis and registered is y-axis\n",
    "# Label as Registered\n",
    "# On same graph as above\n",
    "plt.plot(bike_sharing['dteday'], bike_sharing['registered'], label='Registered')\n",
    "# Rotate x-axis ticks 30 degrees\n",
    "plt.xticks(rotation=30)\n",
    "# Add label bikes rented to y-axis\n",
    "plt.ylabel(\"Bikes Rented\")\n",
    "# Add label date to x-axis\n",
    "plt.xlabel(\"Date\")\n",
    "# Add the title 'Bikes Rented: Casual vs. Registered'\n",
    "plt.title('Bikes Rented: Casual vs. Registered')\n",
    "# Add a legend with 'Casual' and 'Registered' as labels\n",
    "plt.legend()\n",
    "# Show line graph\n",
    "plt.show()"
   ]
  },
  {
   "cell_type": "code",
   "execution_count": null,
   "metadata": {},
   "outputs": [],
   "source": [
    "# Plot line graph with dteday as x-axis and temp as y-axis\n",
    "plt.plot(bike_sharing['dteday'], bike_sharing['temp'])\n",
    "# Rotate x-axis ticks 45 degrees for readability\n",
    "plt.xticks(rotation=45)\n",
    "# Show line graph\n",
    "plt.show()"
   ]
  }
 ],
 "metadata": {
  "kernelspec": {
   "display_name": "Python 3",
   "language": "python",
   "name": "python3"
  },
  "language_info": {
   "name": "python",
   "version": "3.8.5"
  }
 },
 "nbformat": 4,
 "nbformat_minor": 4
}
