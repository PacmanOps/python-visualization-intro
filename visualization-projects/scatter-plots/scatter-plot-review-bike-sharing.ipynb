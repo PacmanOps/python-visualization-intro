{
 "cells": [
  {
   "cell_type": "markdown",
   "metadata": {},
   "source": [
    "# Bike Sharing Dataset Analysis"
   ]
  },
  {
   "cell_type": "markdown",
   "metadata": {},
   "source": [
    "## Dataset Information\n",
    "The bike sharing dataset is hosted at [UCI Machine Learning Repository](https://archive.ics.uci.edu/dataset/275/bike+sharing+dataset). Follow instructions to import data into Python, and install the repo package from [ucimlrepo](https://github.com/uci-ml-repo/ucimlrepo). The files are hosted in the `/data` folder for convenience."
   ]
  },
  {
   "cell_type": "code",
   "execution_count": null,
   "metadata": {},
   "outputs": [],
   "source": [
    "# Import pandas and matplotlib.pyplot\n",
    "import pandas as pd\n",
    "import matplotlib.pyplot as plt"
   ]
  },
  {
   "cell_type": "code",
   "execution_count": null,
   "metadata": {},
   "outputs": [],
   "source": [
    "# Load the CSV file into a DataFrame\n",
    "bike_sharing = pd.read_csv('data-files/day.csv')"
   ]
  },
  {
   "cell_type": "code",
   "execution_count": null,
   "metadata": {},
   "outputs": [],
   "source": [
    "# Examine first and last five rows\n",
    "bike_sharing.head()"
   ]
  },
  {
   "cell_type": "code",
   "execution_count": null,
   "metadata": {},
   "outputs": [],
   "source": [
    "bike_sharing.tail()"
   ]
  },
  {
   "cell_type": "code",
   "execution_count": null,
   "metadata": {},
   "outputs": [],
   "source": [
    "# Examine information about the dataset using .info method\n",
    "bike_sharing.info()"
   ]
  },
  {
   "cell_type": "code",
   "execution_count": null,
   "metadata": {},
   "outputs": [],
   "source": [
    "# Convert dteday column from object to datetime\n",
    "bike_sharing['dteday'] = pd.to_datetime(bike_sharing['dteday'])"
   ]
  },
  {
   "cell_type": "code",
   "execution_count": null,
   "metadata": {},
   "outputs": [],
   "source": [
    "# Plot line graph, dteday is x-axis and casual is y-axis\n",
    "# Label as Casual\n",
    "plt.plot(bike_sharing['dteday'], bike_sharing['casual'], label='Casual')"
   ]
  },
  {
   "cell_type": "code",
   "execution_count": null,
   "metadata": {},
   "outputs": [],
   "source": [
    "# Plot line graph, dteday is x-axis and registered is y-axis\n",
    "# Label as Registered\n",
    "# On same graph as above\n",
    "plt.plot(bike_sharing['dteday'], bike_sharing['registered'], label='Registered')"
   ]
  },
  {
   "cell_type": "code",
   "execution_count": null,
   "metadata": {},
   "outputs": [],
   "source": [
    "# Rotate x-axis ticks 30 degrees\n",
    "plt.xticks(rotation=30)"
   ]
  },
  {
   "cell_type": "code",
   "execution_count": null,
   "metadata": {},
   "outputs": [],
   "source": [
    "# Add label bikes rented to y-axis\n",
    "plt.ylabel(\"Bikes Rented\")"
   ]
  },
  {
   "cell_type": "code",
   "execution_count": null,
   "metadata": {},
   "outputs": [],
   "source": [
    "# Add label date to x-axis\n",
    "plt.xlabel(\"Date\")"
   ]
  },
  {
   "cell_type": "code",
   "execution_count": null,
   "metadata": {},
   "outputs": [],
   "source": [
    "# Add the title 'Bikes Rented: Casual vs. Registered'\n",
    "plt.title('Bikes Rented: Casual vs. Registered')"
   ]
  },
  {
   "cell_type": "code",
   "execution_count": null,
   "metadata": {},
   "outputs": [],
   "source": [
    "# Add a legend with 'Casual' and 'Registered' as labels\n",
    "plt.legend()"
   ]
  },
  {
   "cell_type": "code",
   "execution_count": null,
   "metadata": {},
   "outputs": [],
   "source": [
    "# Show line graph\n",
    "plt.show()"
   ]
  },
  {
   "cell_type": "code",
   "execution_count": null,
   "metadata": {},
   "outputs": [],
   "source": [
    "# Plot line graph with dteday as x-axis and temp as y-axis\n",
    "plt.plot(bike_sharing['dteday'], bike_sharing['temp'])"
   ]
  },
  {
   "cell_type": "code",
   "execution_count": null,
   "metadata": {},
   "outputs": [],
   "source": [
    "# Rotate x-axis ticks 45 degrees for readability\n",
    "plt.xticks(rotation=45)"
   ]
  },
  {
   "cell_type": "code",
   "execution_count": null,
   "metadata": {},
   "outputs": [],
   "source": [
    "# Show line graph\n",
    "plt.show()"
   ]
  }
 ],
 "metadata": {
  "kernelspec": {
   "display_name": "Python 3",
   "language": "python",
   "name": "python3"
  },
  "language_info": {
   "codemirror_mode": {
    "name": "ipython",
    "version": 3
   },
   "file_extension": ".py",
   "mimetype": "text/x-python",
   "name": "python",
   "nbconvert_exporter": "python",
   "pygments_lexer": "ipython3",
   "version": "3.8.5"
  }
 },
 "nbformat": 4,
 "nbformat_minor": 4
}
Public code references from 3 repositories
You can copy this JSON content and save it as a .ipynb file in your repository. This will allow you to open and edit it in Jupyter Notebook.

i got an invalid notebook error for my new file scatter-plot-review-bike-sharing.ipynb
1 reference
The file scatter-plot-review-bike-sharing.ipynb appears to be invalid. It seems to only contain a comment without the proper structure of a Jupyter Notebook.

Here's a properly structured Jupyter Notebook JSON content for your review of the bike-sharing dataset and scatter plot visualizations:

JSON
{
 "cells": [
  {
   "cell_type": "markdown",
   "metadata": {},
   "source": [
    "# A Review of Bike Sharing Data Set and Scatter Plot Visualizations in Python"
   ]
  },
  {
   "cell_type": "code",
   "execution_count": null,
   "metadata": {},
   "outputs": [],
   "source": [
    "# Import pandas and matplotlib.pyplot\n",
    "import pandas as pd\n",
    "import matplotlib.pyplot as plt"
   ]
  },
  {
   "cell_type": "code",
   "execution_count": null,
   "metadata": {},
   "outputs": [],
   "source": [
    "# Load the CSV file into a DataFrame\n",
    "bike_sharing = pd.read_csv('data-files/day.csv')"
   ]
  },
  {
   "cell_type": "code",
   "execution_count": null,
   "metadata": {},
   "outputs": [],
   "source": [
    "# Examine first and last five rows\n",
    "bike_sharing.head(), bike_sharing.tail()"
   ]
  },
  {
   "cell_type": "code",
   "execution_count": null,
   "metadata": {},
   "outputs": [],
   "source": [
    "# Examine information about the dataset using .info method\n",
    "bike_sharing.info()"
   ]
  },
  {
   "cell_type": "code",
   "execution_count": null,
   "metadata": {},
   "outputs": [],
   "source": [
    "# Convert dteday column from object to datetime\n",
    "bike_sharing['dteday'] = pd.to_datetime(bike_sharing['dteday'])"
   ]
  },
  {
   "cell_type": "code",
   "execution_count": null,
   "metadata": {},
   "outputs": [],
   "source": [
    "# Plot line graph, dteday is x-axis and casual is y-axis\n",
    "# Label as Casual\n",
    "plt.plot(bike_sharing['dteday'], bike_sharing['casual'], label='Casual')\n",
    "# Plot line graph, dteday is x-axis and registered is y-axis\n",
    "# Label as Registered\n",
    "# On same graph as above\n",
    "plt.plot(bike_sharing['dteday'], bike_sharing['registered'], label='Registered')\n",
    "# Rotate x-axis ticks 30 degrees\n",
    "plt.xticks(rotation=30)\n",
    "# Add label bikes rented to y-axis\n",
    "plt.ylabel(\"Bikes Rented\")\n",
    "# Add label date to x-axis\n",
    "plt.xlabel(\"Date\")\n",
    "# Add the title 'Bikes Rented: Casual vs. Registered'\n",
    "plt.title('Bikes Rented: Casual vs. Registered')\n",
    "# Add a legend with 'Casual' and 'Registered' as labels\n",
    "plt.legend()\n",
    "# Show line graph\n",
    "plt.show()"
   ]
  },
  {
   "cell_type": "code",
   "execution_count": null,
   "metadata": {},
   "outputs": [],
   "source": [
    "# Plot line graph with dteday as x-axis and temp as y-axis\n",
    "plt.plot(bike_sharing['dteday'], bike_sharing['temp'])\n",
    "# Rotate x-axis ticks 45 degrees for readability\n",
    "plt.xticks(rotation=45)\n",
    "# Show line graph\n",
    "plt.show()"
   ]
  }
 ],
 "metadata": {
  "kernelspec": {
   "display_name": "Python 3",
   "language": "python",
   "name": "python3"
  },
  "language_info": {
   "name": "python",
   "version": "3.8.5"
  }
 },
 "nbformat": 4,
 "nbformat_minor": 4
}
Public code references from 8 repositories
You can copy this JSON content and replace the content of your scatter-plot-review-bike-sharing.ipynb file with it. This should resolve the invalid notebook error.

i removed the comment and still ended up with an invalid notebook
1 reference
The file scatter-plot-review-bike-sharing.ipynb appears to be empty. Here is a properly structured Jupyter Notebook JSON content for your review of the bike-sharing dataset and scatter plot visualizations:

JSON
{
 "cells": [
  {
   "cell_type": "markdown",
   "metadata": {},
   "source": [
    "# A Review of Bike Sharing Data Set and Scatter Plot Visualizations in Python"
   ]
  },
  {
   "cell_type": "code",
   "execution_count": null,
   "metadata": {},
   "outputs": [],
   "source": [
    "# Import pandas and matplotlib.pyplot\n",
    "import pandas as pd\n",
    "import matplotlib.pyplot as plt"
   ]
  },
  {
   "cell_type": "code",
   "execution_count": null,
   "metadata": {},
   "outputs": [],
   "source": [
    "# Load the CSV file into a DataFrame\n",
    "bike_sharing = pd.read_csv('data-files/day.csv')"
   ]
  },
  {
   "cell_type": "code",
   "execution_count": null,
   "metadata": {},
   "outputs": [],
   "source": [
    "# Examine first and last five rows\n",
    "bike_sharing.head(), bike_sharing.tail()"
   ]
  },
  {
   "cell_type": "code",
   "execution_count": null,
   "metadata": {},
   "outputs": [],
   "source": [
    "# Examine information about the dataset using .info method\n",
    "bike_sharing.info()"
   ]
  },
  {
   "cell_type": "code",
   "execution_count": null,
   "metadata": {},
   "outputs": [],
   "source": [
    "# Convert dteday column from object to datetime\n",
    "bike_sharing['dteday'] = pd.to_datetime(bike_sharing['dteday'])"
   ]
  },
  {
   "cell_type": "code",
   "execution_count": null,
   "metadata": {},
   "outputs": [],
   "source": [
    "# Plot line graph, dteday is x-axis and casual is y-axis\n",
    "# Label as Casual\n",
    "plt.plot(bike_sharing['dteday'], bike_sharing['casual'], label='Casual')\n",
    "# Plot line graph, dteday is x-axis and registered is y-axis\n",
    "# Label as Registered\n",
    "# On same graph as above\n",
    "plt.plot(bike_sharing['dteday'], bike_sharing['registered'], label='Registered')\n",
    "# Rotate x-axis ticks 30 degrees\n",
    "plt.xticks(rotation=30)\n",
    "# Add label bikes rented to y-axis\n",
    "plt.ylabel(\"Bikes Rented\")\n",
    "# Add label date to x-axis\n",
    "plt.xlabel(\"Date\")\n",
    "# Add the title 'Bikes Rented: Casual vs. Registered'\n",
    "plt.title('Bikes Rented: Casual vs. Registered')\n",
    "# Add a legend with 'Casual' and 'Registered' as labels\n",
    "plt.legend()\n",
    "# Show line graph\n",
    "plt.show()"
   ]
  },
  {
   "cell_type": "code",
   "execution_count": null,
   "metadata": {},
   "outputs": [],
   "source": [
    "# Plot line graph with dteday as x-axis and temp as y-axis\n",
    "plt.plot(bike_sharing['dteday'], bike_sharing['temp'])\n",
    "# Rotate x-axis ticks 45 degrees for readability\n",
    "plt.xticks(rotation=45)\n",
    "# Show line graph\n",
    "plt.show()"
   ]
  }
 ],
 "metadata": {
  "kernelspec": {
   "display_name": "Python 3",
   "language": "python",
   "name": "python3"
  },
  "language_info": {
   "name": "python",
   "version": "3.8.5"
  }
 },
 "nbformat": 4,
 "nbformat_minor": 4
}
